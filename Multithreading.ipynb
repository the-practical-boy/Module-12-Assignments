{
 "cells": [
  {
   "cell_type": "markdown",
   "metadata": {},
   "source": [
    "## Q1\n",
    "Multithreading in Python:\n",
    "\n",
    "Multithreading in Python refers to the ability of a program to execute multiple threads concurrently to improve performance and responsiveness.\n",
    "Purpose:\n",
    "\n",
    "Multithreading is used to perform multiple tasks simultaneously, utilize system resources efficiently, and improve the responsiveness of applications, especially for I/O-bound tasks.\n",
    "\n",
    "The threading module is used to handle threads in Python."
   ]
  },
  {
   "cell_type": "markdown",
   "metadata": {},
   "source": [
    "## Q2\n",
    "The threading module is used for creating, controlling, and managing threads in Python.\n",
    "\n",
    "**activeCount()**:\n",
    "Returns the number of active Thread objects in the current thread's thread group.\n",
    "\n",
    "**currentThread()**:\n",
    "Returns the current Thread object, representing the thread from which this function is called.\n",
    "\n",
    "**enumerate()**:\n",
    "Returns a list of all Thread objects currently alive."
   ]
  },
  {
   "cell_type": "code",
   "execution_count": 3,
   "metadata": {},
   "outputs": [
    {
     "name": "stdout",
     "output_type": "stream",
     "text": [
      "Current thread: <_MainThread(MainThread, started 21392)>\n",
      "List of alive threads: [<_MainThread(MainThread, started 21392)>, <Thread(IOPub, started daemon 19008)>, <Heartbeat(Heartbeat, started daemon 23792)>, <ControlThread(Control, started daemon 21732)>, <HistorySavingThread(IPythonHistorySavingThread, started 24616)>, <ParentPollerWindows(Thread-3, started daemon 2952)>]\n",
      "Number of active threads: 6\n"
     ]
    }
   ],
   "source": [
    "import threading\n",
    "\n",
    "# Get the current thread\n",
    "current_thread = threading.current_thread()\n",
    "print(\"Current thread:\", current_thread)\n",
    "\n",
    "\n",
    "thread_list = threading.enumerate()\n",
    "print(\"List of alive threads:\", thread_list)\n",
    "\n",
    "count = threading.active_count()\n",
    "print(\"Number of active threads:\", count)"
   ]
  },
  {
   "cell_type": "markdown",
   "metadata": {},
   "source": [
    "## Q3\n",
    "\n",
    "**run()**:\n",
    "The run() method is the entry point for the thread's activity. When a thread is started, the run() method is called implicitly. It contains the code that the thread will execute.\n",
    "\n",
    "\n",
    "**start()**:\n",
    "The start() method is used to start the execution of the thread's run() method. It creates a new thread of execution and begins executing the run() method.\n",
    "\n",
    "\n",
    "**join()**:\n",
    "The join() method blocks the calling thread until the thread whose join() method is called completes its execution. It's used to wait for the completion of a thread.\n",
    "\n",
    "\n",
    "**is_alive()**\n",
    "The isAlive() method checks whether the thread is currently executing or alive. It returns True if the thread is alive and False otherwise."
   ]
  },
  {
   "cell_type": "code",
   "execution_count": 5,
   "metadata": {},
   "outputs": [
    {
     "name": "stdout",
     "output_type": "stream",
     "text": [
      "Thread is running\n",
      "hello\n",
      "Thread is not alive\n"
     ]
    }
   ],
   "source": [
    "class MyThread(threading.Thread):\n",
    "    def run(self):\n",
    "        print(\"Thread is running\")\n",
    "    \n",
    "\n",
    "# Create and start the thread\n",
    "def my_function():\n",
    "    print(\"hello\")\n",
    "thread = MyThread()\n",
    "thread.start()  # This will call the run() method\n",
    "\n",
    "thread = threading.Thread(target=my_function)\n",
    "thread.start()  # Start the thread\n",
    "thread.join()  # Wait for the thread to complete\n",
    "if thread.is_alive():\n",
    "    print(\"Thread is alive\")\n",
    "else:\n",
    "    print(\"Thread is not alive\")\n",
    "\n",
    "\n"
   ]
  },
  {
   "cell_type": "markdown",
   "metadata": {},
   "source": [
    "## Q4"
   ]
  },
  {
   "cell_type": "code",
   "execution_count": 7,
   "metadata": {},
   "outputs": [
    {
     "name": "stdout",
     "output_type": "stream",
     "text": [
      "List of squares: [1, 4, 9, 16, 25]\n",
      "List of cubes: [1, 8, 27, 64, 125]\n",
      "Both threads have finished execution.\n"
     ]
    }
   ],
   "source": [
    "import threading\n",
    "\n",
    "def print_squares():\n",
    "    squares = [i ** 2 for i in range(1, 6)]\n",
    "    print(\"List of squares:\", squares)\n",
    "\n",
    "def print_cubes():\n",
    "    cubes = [i ** 3 for i in range(1, 6)]\n",
    "    print(\"List of cubes:\", cubes)\n",
    "\n",
    "# Create two threads\n",
    "thread1 = threading.Thread(target=print_squares)\n",
    "thread2 = threading.Thread(target=print_cubes)\n",
    "\n",
    "# Start the threads\n",
    "thread1.start()\n",
    "thread2.start()\n",
    "\n",
    "\n",
    "\n",
    "print(\"Both threads have finished execution.\")\n"
   ]
  },
  {
   "cell_type": "markdown",
   "metadata": {},
   "source": [
    "## Q5\n",
    "Advantages of Multithreading:\n",
    "\n",
    "Multithreading offers several benefits:\n",
    "\n",
    "Improved Performance: Multithreading allows concurrent execution of tasks, utilizing multiple CPU cores efficiently and potentially speeding up execution time.\n",
    "Enhanced Responsiveness: By running tasks concurrently, multithreading can improve the responsiveness of applications, especially for I/O-bound operations, such as reading from files or communicating over networks.\n",
    "Resource Sharing: Threads within the same process share the same memory space, making it easier to share data and resources between threads without the need for complex communication mechanisms.\n",
    "Disadvantages of Multithreading:\n",
    "\n",
    "However, multithreading also presents some challenges:\n",
    "\n",
    "Complexity: Writing and debugging multithreaded code can be challenging due to issues such as race conditions, deadlocks, and synchronization.\n",
    "Overhead: Creating and managing threads incurs overhead in terms of memory and CPU resources. In some cases, the overhead of managing multiple threads may outweigh the performance benefits.\n",
    "Potential for Bugs: Multithreading introduces concurrency-related bugs, such as race conditions, which can be difficult to identify and debug, leading to unpredictable behavior in the application."
   ]
  },
  {
   "cell_type": "markdown",
   "metadata": {},
   "source": [
    "## Q6\n",
    "\n",
    "A deadlock occurs in a multithreaded or distributed environment when two or more threads or processes are unable to proceed with their execution because each is waiting for the other to release a resource. This creates a circular dependency where none of the involved threads can make progress. Deadlocks can occur due to improper resource allocation and locking mechanisms. To resolve deadlocks, it's essential to carefully manage resource acquisition and release to avoid circular dependencies and ensure proper synchronization.\n",
    "\n",
    "Race Conditions:\n",
    "\n",
    "A race condition occurs when the outcome of a program depends on the timing or interleaving of multiple threads or processes executing concurrently. Race conditions typically arise when multiple threads access shared resources without proper synchronization, leading to unpredictable behavior. For example, if two threads attempt to update a shared variable simultaneously without proper locking, the final value of the variable may depend on the order of execution of the threads, leading to inconsistent results. Race conditions can be mitigated by using synchronization mechanisms such as locks, semaphores, or mutexes to ensure that critical sections of code are executed atomically and prevent concurrent access to shared resources"
   ]
  },
  {
   "cell_type": "code",
   "execution_count": 9,
   "metadata": {},
   "outputs": [
    {
     "name": "stdout",
     "output_type": "stream",
     "text": [
      "Function 1 acquired lock 1\n",
      "Function 1 acquired lock 2\n",
      "Function 2 acquired lock 2\n",
      "Function 2 acquired lock 1\n"
     ]
    }
   ],
   "source": [
    "import threading\n",
    "\n",
    "# Create two locks\n",
    "lock1 = threading.Lock()\n",
    "lock2 = threading.Lock()\n",
    "\n",
    "def function1():\n",
    "    with lock1:\n",
    "        print(\"Function 1 acquired lock 1\")\n",
    "        # Simulate some work\n",
    "        with lock2:\n",
    "            print(\"Function 1 acquired lock 2\")\n",
    "\n",
    "def function2():\n",
    "    with lock2:\n",
    "        print(\"Function 2 acquired lock 2\")\n",
    "        # Simulate some work\n",
    "        with lock1:\n",
    "            print(\"Function 2 acquired lock 1\")\n",
    "\n",
    "# Create and start threads\n",
    "thread1 = threading.Thread(target=function1)\n",
    "thread2 = threading.Thread(target=function2)\n",
    "thread1.start()\n",
    "thread2.start()\n"
   ]
  },
  {
   "cell_type": "code",
   "execution_count": 11,
   "metadata": {},
   "outputs": [
    {
     "name": "stdout",
     "output_type": "stream",
     "text": [
      "Counter value: 2000000\n"
     ]
    }
   ],
   "source": [
    "import threading\n",
    "\n",
    "counter = 0\n",
    "\n",
    "def increment():\n",
    "    global counter\n",
    "    for _ in range(1000000):\n",
    "        counter += 1\n",
    "\n",
    "# Create two threads that increment the counter concurrently\n",
    "thread1 = threading.Thread(target=increment)\n",
    "thread2 = threading.Thread(target=increment)\n",
    "\n",
    "# Start the threads\n",
    "thread1.start()\n",
    "thread2.start()\n",
    "\n",
    "# Wait for both threads to finish\n",
    "thread1.join()\n",
    "thread2.join()\n",
    "\n",
    "print(\"Counter value:\", counter)\n"
   ]
  }
 ],
 "metadata": {
  "kernelspec": {
   "display_name": "Python 3",
   "language": "python",
   "name": "python3"
  },
  "language_info": {
   "codemirror_mode": {
    "name": "ipython",
    "version": 3
   },
   "file_extension": ".py",
   "mimetype": "text/x-python",
   "name": "python",
   "nbconvert_exporter": "python",
   "pygments_lexer": "ipython3",
   "version": "3.11.9"
  }
 },
 "nbformat": 4,
 "nbformat_minor": 2
}
