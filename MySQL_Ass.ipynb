{
 "cells": [
  {
   "cell_type": "markdown",
   "metadata": {},
   "source": [
    "## Q1\n",
    "A database is a structured collection of data that is organized in a way that enables efficient storage, retrieval, and manipulation of data. It serves as a central repository for various types of information, allowing users to interact with the data in a systematic manner.\n",
    "\n",
    "SQL (Structured Query Language) databases are relational databases that use a structured query language to define and manipulate data. They are based on a tabular schema, with data organized into tables with rows and columns. SQL databases are known for their ability to ensure data integrity through relationships between tables and support for ACID (Atomicity, Consistency, Isolation, Durability) transactions.\n",
    "\n",
    "On the other hand, NoSQL databases are non-relational databases that provide a mechanism for storage and retrieval of data that is modeled in means other than the tabular relations used in relational databases. NoSQL databases are schema-less or have a flexible schema, allowing for the storage of unstructured or semi-structured data. They are designed to scale horizontally and are often used in scenarios where high availability and scalability are crucial, such as web applications, big data, and real-time analytics. NoSQL databases come in various types, including document-oriented, key-value, columnar, and graph databases, each optimized for specific use cases and data models."
   ]
  },
  {
   "cell_type": "markdown",
   "metadata": {},
   "source": [
    "## Q2\n",
    "DDL stands for Data Definition Language, which is used to define and manage the structure of a database. The main DDL commands are:\n",
    "\n",
    "CREATE: Used to create a new table or database.\n",
    "\n",
    "DROP: Used to delete an existing table or database.\n",
    "\n",
    "ALTER: Used to modify the structure of an existing table, such as adding or deleting columns.\n",
    "\n",
    "TRUNCATE: Used to remove all rows from a table, effectively clearing it without deleting the table itself.\n",
    "\n",
    "Examples:\n",
    "\n",
    "CREATE TABLE students (id INT, name VARCHAR(50));\n",
    "\n",
    "DROP TABLE students;\n",
    "\n",
    "ALTER TABLE students ADD COLUMN age INT;\n",
    "\n",
    "TRUNCATE TABLE students;\n"
   ]
  },
  {
   "cell_type": "markdown",
   "metadata": {},
   "source": [
    "## Q3\n",
    "DML stands for Data Manipulation Language, which is used to manage data within existing database structures. The main DML commands are:\n",
    "\n",
    "INSERT: Used to add new records to a table.\n",
    "\n",
    "UPDATE: Used to modify existing records in a table.\n",
    "\n",
    "DELETE: Used to remove existing records from a table.\n",
    "\n",
    "\n",
    "---------------------------------------------------------------\n",
    "INSERT INTO students (id, name, age) VALUES (1, 'John Doe', 20);\n",
    "\n",
    "UPDATE students SET age = 21 WHERE id = 1;\n",
    "\n",
    "DELETE FROM students WHERE id = 1;\n"
   ]
  },
  {
   "cell_type": "markdown",
   "metadata": {},
   "source": [
    "## Q4\n",
    "\n",
    "DQL stands for Data Query Language, which is used to query and retrieve data from a database. The main DQL command is:\n",
    "\n",
    "SELECT: Used to retrieve data from one or more tables.\n",
    "\n",
    "\n",
    "SELECT * FROM students;\n",
    "\n",
    "\n",
    "SELECT id, name FROM students;\n",
    "\n",
    "\n",
    "SELECT id, name FROM students WHERE age > 18;\n"
   ]
  },
  {
   "cell_type": "markdown",
   "metadata": {},
   "source": [
    "## Q5\n",
    "Primary Key: A primary key is a unique identifier for each record in a database table. It ensures that each record can be uniquely identified and that no duplicate values exist in the primary key column(s). For example, in a table of students, the student ID can be a primary key because it uniquely identifies each student.\n",
    "\n",
    "Foreign Key: A foreign key is a column or a set of columns in one table that references the primary key of another table. It creates a relationship between the two tables, ensuring referential integrity. For example, if there is a table of courses and a table of enrollments, the enrollment table might have a foreign key that references the student ID in the students table, linking each enrollment record to a specific student."
   ]
  },
  {
   "cell_type": "markdown",
   "metadata": {},
   "source": [
    "## Q6\n",
    "\n",
    "import mysql.connector\n",
    "\n",
    "\n",
    "conn = mysql.connector.connect(\n",
    "    host=\"localhost\",\n",
    "    user=\"your_username\",\n",
    "    password=\"your_password\",\n",
    "    database=\"your_database\"\n",
    ")\n",
    "\n",
    "\n",
    "cursor = conn.cursor()\n",
    "\n",
    "\n",
    "cursor.execute(\"SELECT * FROM students\")\n",
    "\n",
    "for row in cursor.fetchall():\n",
    "    print(row)\n",
    "\n",
    "conn.close()\n",
    "\n",
    "1. cursor(): The cursor() method creates a cursor object, which is used to interact with the database. It allows you to execute SQL queries and fetch the results.\n",
    "\n",
    "2. execute(): The execute() method is used to execute an SQL query using the cursor object. In the example above, cursor.execute(\"SELECT * FROM students\") sends a query to the database to retrieve all records from the students table.\n"
   ]
  },
  {
   "cell_type": "markdown",
   "metadata": {},
   "source": [
    "## Q7\n",
    "In SQL, the order of execution of clauses in a query typically follows these steps:\n",
    "\n",
    "1. FROM: Specifies the tables to retrieve data from.\n",
    "2. JOIN: Combines rows from two or more tables based on a related column.\n",
    "3. WHERE: Filters the rows based on a condition.\n",
    "4. GROUP BY: Groups rows that have the same values in specified columns into   summary rows.\n",
    "5. HAVING: Filters groups based on a condition.\n",
    "6. SELECT: Specifies the columns to be returned.\n",
    "7. DISTINCT: Removes duplicate rows from the result set.\n",
    "8. ORDER BY: Sorts the result set by specified columns.\n",
    "9. LIMIT/OFFSET: Limits the number of rows returned or skips a specified number of rows.\n"
   ]
  }
 ],
 "metadata": {
  "language_info": {
   "name": "python"
  }
 },
 "nbformat": 4,
 "nbformat_minor": 2
}
