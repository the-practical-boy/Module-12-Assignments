{
 "cells": [
  {
   "cell_type": "markdown",
   "metadata": {},
   "source": [
    "## Q1\n",
    "Flask is a lightweight web framework for python. It uses REST architecture to get requests from different urls and is used to route different urls on the web.\n",
    "\n",
    "Advantages of Flask:\n",
    "1. It is a lightweight module for quick and short restful api calls.\n",
    "2. Easy to setup inside your python backend without any extra resources from outside.\n",
    "3. Uses REST architecture which is simple and robust to run\n",
    "4. Numerous extension available for advanced functionalities."
   ]
  },
  {
   "cell_type": "markdown",
   "metadata": {},
   "source": [
    "## Q2"
   ]
  },
  {
   "cell_type": "code",
   "execution_count": 3,
   "metadata": {},
   "outputs": [
    {
     "name": "stdout",
     "output_type": "stream",
     "text": [
      " * Serving Flask app '__main__'\n",
      " * Debug mode: off\n"
     ]
    },
    {
     "name": "stderr",
     "output_type": "stream",
     "text": [
      "WARNING: This is a development server. Do not use it in a production deployment. Use a production WSGI server instead.\n",
      " * Running on all addresses (0.0.0.0)\n",
      " * Running on http://127.0.0.1:5000\n",
      " * Running on http://172.25.43.95:5000\n",
      "Press CTRL+C to quit\n"
     ]
    }
   ],
   "source": [
    "from flask import Flask\n",
    "\n",
    "app=Flask(__name__)\n",
    "\n",
    "@app.route('/')\n",
    "def helloWorld():\n",
    "    return \"<h1>Hello World</h1>\"\n",
    "\n",
    "if __name__=='__main__':\n",
    "    app.run(host=\"0.0.0.0\")"
   ]
  },
  {
   "cell_type": "markdown",
   "metadata": {},
   "source": [
    "## Q3\n",
    "\n",
    "App routing in Flask is the mechanism by which URLs are mapped to functions. Essentially, it determines what content is displayed when a user accesses a specific URL in your web application.\n",
    "\n",
    "1. URL Mapping: App routes allow you to define which function should be executed for a particular URL, making it easy to organize and manage the different endpoints of your web application.\n",
    "2. Clean URLs: It helps in creating clean and user-friendly URLs, which are important for both user experience and SEO.\n",
    "3. Dynamic Content: Routes enable serving dynamic content based on the URL parameters, making the web application interactive and responsive to user input.\n",
    "4. Segmentation: Helps in segmenting the application into different parts or functionalities, each accessible through a unique URL."
   ]
  },
  {
   "cell_type": "markdown",
   "metadata": {},
   "source": [
    "## Q4"
   ]
  },
  {
   "cell_type": "code",
   "execution_count": 9,
   "metadata": {},
   "outputs": [
    {
     "name": "stdout",
     "output_type": "stream",
     "text": [
      " * Serving Flask app '__main__'\n",
      " * Debug mode: off\n"
     ]
    },
    {
     "name": "stderr",
     "output_type": "stream",
     "text": [
      "WARNING: This is a development server. Do not use it in a production deployment. Use a production WSGI server instead.\n",
      " * Running on all addresses (0.0.0.0)\n",
      " * Running on http://127.0.0.1:5000\n",
      " * Running on http://172.25.43.95:5000\n",
      "Press CTRL+C to quit\n"
     ]
    }
   ],
   "source": [
    "from flask import Flask\n",
    "\n",
    "app=Flask(__name__)\n",
    "\n",
    "\n",
    "@app.route('/welcome')\n",
    "def welcome():\n",
    "    return \"<h1>Welcome to ABC Corporation</h1>\"\n",
    "\n",
    "@app.route('/')\n",
    "def details():\n",
    "    return \"<h2>Company Name: ABC Corporation<br>Location: India<br>Contact Detail: 999-999-9999</h2>\"\n",
    "\n",
    "if __name__=='__main__':\n",
    "    app.run(host=\"0.0.0.0\")"
   ]
  },
  {
   "cell_type": "markdown",
   "metadata": {},
   "source": [
    "## Q5\n",
    "In Flask, the url_for() function is used for URL building. It generates a URL to the given endpoint with the method you specify and the arguments you pass.\n",
    "\n",
    "1. Dynamic URLs: It allows you to build URLs dynamically, ensuring they are always correct.\n",
    "2. Maintainability: If the URL structure changes, you only need to change the routing code, not every place where the URL is used.\n",
    "3. URL Generation: It can generate URLs with arguments, making it easier to handle dynamic data."
   ]
  },
  {
   "cell_type": "code",
   "execution_count": 6,
   "metadata": {},
   "outputs": [
    {
     "name": "stdout",
     "output_type": "stream",
     "text": [
      " * Serving Flask app '__main__'\n",
      " * Debug mode: off\n"
     ]
    },
    {
     "name": "stderr",
     "output_type": "stream",
     "text": [
      "WARNING: This is a development server. Do not use it in a production deployment. Use a production WSGI server instead.\n",
      " * Running on all addresses (0.0.0.0)\n",
      " * Running on http://127.0.0.1:5001\n",
      " * Running on http://172.25.43.95:5001\n",
      "Press CTRL+C to quit\n",
      "172.25.43.95 - - [05/Jun/2024 11:36:16] \"GET / HTTP/1.1\" 200 -\n"
     ]
    }
   ],
   "source": [
    "from flask import Flask, url_for, redirect\n",
    "\n",
    "app = Flask(__name__)\n",
    "\n",
    "@app.route('/')\n",
    "def home():\n",
    "    return '<h1>Home Page</h1>'\n",
    "\n",
    "@app.route('/welcome')\n",
    "def welcome():\n",
    "    return '<h1>Welcome to ABC Corporation</h1>'\n",
    "\n",
    "@app.route('/user/<username>')\n",
    "def user_profile(username):\n",
    "    return f'<h1>User: {username}</h1>'\n",
    "\n",
    "@app.route('/redirect_to_welcome')\n",
    "def redirect_to_welcome():\n",
    "    return redirect(url_for('welcome'))\n",
    "\n",
    "@app.route('/redirect_to_user/<username>')\n",
    "def redirect_to_user(username):\n",
    "    return redirect(url_for('user_profile', username=username))\n",
    "\n",
    "if __name__ == '__main__':\n",
    "    app.run(host='0.0.0.0',port=5001)\n"
   ]
  }
 ],
 "metadata": {
  "kernelspec": {
   "display_name": "Python 3",
   "language": "python",
   "name": "python3"
  },
  "language_info": {
   "codemirror_mode": {
    "name": "ipython",
    "version": 3
   },
   "file_extension": ".py",
   "mimetype": "text/x-python",
   "name": "python",
   "nbconvert_exporter": "python",
   "pygments_lexer": "ipython3",
   "version": "3.11.9"
  }
 },
 "nbformat": 4,
 "nbformat_minor": 2
}
