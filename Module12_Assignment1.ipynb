{
 "cells": [
  {
   "cell_type": "markdown",
   "metadata": {},
   "source": [
    "'def' keyword is used to create a function"
   ]
  },
  {
   "cell_type": "code",
   "execution_count": 4,
   "metadata": {},
   "outputs": [],
   "source": [
    "def odd_list():\n",
    "    for i in range(26):\n",
    "        print(i if i%2!=0 else \" \", end=\" \")"
   ]
  },
  {
   "cell_type": "code",
   "execution_count": 5,
   "metadata": {},
   "outputs": [
    {
     "name": "stdout",
     "output_type": "stream",
     "text": [
      "  1   3   5   7   9   11   13   15   17   19   21   23   25 "
     ]
    }
   ],
   "source": [
    "odd_list()"
   ]
  },
  {
   "cell_type": "markdown",
   "metadata": {},
   "source": [
    "Q2: *args is used to pass a variable number of positional arguments to a function. It collects all the positional arguments passed to the function into a tuple.\n",
    "**kwargs is used to pass a variable number of key-word arguments to a function. It collects all the key-word arguments passed to the function into a dictionary."
   ]
  },
  {
   "cell_type": "code",
   "execution_count": 6,
   "metadata": {},
   "outputs": [
    {
     "name": "stdout",
     "output_type": "stream",
     "text": [
      "Sum: 15\n",
      "name: Alice\n",
      "age: 30\n",
      "city: New York\n"
     ]
    }
   ],
   "source": [
    "def sum_values(*args):\n",
    "    total = 0\n",
    "    for num in args:\n",
    "        total += num\n",
    "    return total\n",
    "\n",
    "def print_info(**kwargs):\n",
    "    for key, value in kwargs.items():\n",
    "        print(f\"{key}: {value}\")\n",
    "\n",
    "result = sum_values(1, 2, 3, 4, 5)\n",
    "\n",
    "\n",
    "print(\"Sum:\", result)\n",
    "\n",
    "\n",
    "print_info(name=\"Alice\", age=30, city=\"New York\")\n"
   ]
  },
  {
   "cell_type": "markdown",
   "metadata": {},
   "source": [
    "Q3 iterator is an object that represents a stream of data. It enables iteration over a sequence of elements, one at a time, without the need to load the entire sequence into memory at once.\n",
    "\n",
    "The iter() function is used to initialize an iterator object. This function takes an iterable object (such as a list, tuple, or string) as its argument and returns an iterator object that can be used to iterate over the elements of the iterable.\n",
    "\n",
    "The next() method is used for iteration. Once an iterator object is created using iter(), the next() method is called on the iterator object to retrieve the next element in the sequence.\n"
   ]
  },
  {
   "cell_type": "code",
   "execution_count": 7,
   "metadata": {},
   "outputs": [
    {
     "name": "stdout",
     "output_type": "stream",
     "text": [
      "1\n",
      "2\n",
      "3\n",
      "4\n",
      "5\n"
     ]
    }
   ],
   "source": [
    "my_list = [1, 2, 3, 4, 5]\n",
    "my_iterator = iter(my_list)\n",
    "\n",
    "print(next(my_iterator))  # Output: 1\n",
    "print(next(my_iterator))  # Output: 2\n",
    "print(next(my_iterator))  # Output: 3\n",
    "print(next(my_iterator))  # Output: 4\n",
    "print(next(my_iterator))  # Output: 5\n",
    "\n",
    "\n",
    "\n"
   ]
  },
  {
   "cell_type": "markdown",
   "metadata": {},
   "source": [
    "Q4: A generator function in Python is a special type of function that allows you to generate a sequence of values lazily, on-the-fly, without storing the entire sequence in memory.\n",
    "\n",
    "The yield keyword is used in generator functions to temporarily suspend execution and yield a value to the caller. Unlike return, which terminates the function and returns a single value, yield allows the function to yield multiple values over time, maintaining its state between each call. Each time the generator's next() method is called, the function resumes execution from where it left off, continuing until it encounters another yield statement or reaches the end of the function,"
   ]
  },
  {
   "cell_type": "code",
   "execution_count": 8,
   "metadata": {},
   "outputs": [
    {
     "name": "stdout",
     "output_type": "stream",
     "text": [
      "0\n",
      "1\n",
      "4\n",
      "9\n",
      "16\n"
     ]
    }
   ],
   "source": [
    "def squares_generator(n):\n",
    "    for i in range(n):\n",
    "        yield i ** 2\n",
    "\n",
    "squares = squares_generator(5)\n",
    "\n",
    "for square in squares:\n",
    "    print(square)\n"
   ]
  },
  {
   "cell_type": "code",
   "execution_count": 10,
   "metadata": {},
   "outputs": [
    {
     "name": "stdout",
     "output_type": "stream",
     "text": [
      "The first 20 prime numbers are:\n",
      "2\n",
      "3\n",
      "5\n",
      "7\n",
      "11\n",
      "13\n",
      "17\n",
      "19\n",
      "23\n",
      "29\n",
      "31\n",
      "37\n",
      "41\n",
      "43\n",
      "47\n",
      "53\n",
      "59\n",
      "61\n",
      "67\n",
      "71\n"
     ]
    }
   ],
   "source": [
    "# Q5\n",
    "def is_prime(num):\n",
    "    if num < 2:\n",
    "        return False\n",
    "    for i in range(2, int(num**0.5) + 1):\n",
    "        if num % i == 0:\n",
    "            return False\n",
    "    return True\n",
    "\n",
    "def prime_generator():\n",
    "    num = 2\n",
    "    while True:\n",
    "        if is_prime(num):\n",
    "            yield num\n",
    "        num += 1\n",
    "\n",
    "prime_gen = prime_generator()\n",
    "\n",
    "print(\"The first 20 prime numbers are:\")\n",
    "for _ in range(20):\n",
    "    print(next(prime_gen))\n"
   ]
  },
  {
   "cell_type": "code",
   "execution_count": 11,
   "metadata": {},
   "outputs": [
    {
     "name": "stdout",
     "output_type": "stream",
     "text": [
      "The first 10 Fibonacci numbers are: [0, 1, 1, 2, 3, 5, 8, 13, 21, 34]\n"
     ]
    }
   ],
   "source": [
    "#Q6\n",
    "def fibonacci_sequence(n):\n",
    "    fib_list = [0, 1]  \n",
    "    while len(fib_list) < n:\n",
    "        next_fib = fib_list[-1] + fib_list[-2]  \n",
    "        fib_list.append(next_fib)  \n",
    "    return fib_list\n",
    "\n",
    "# Print the first 10 Fibonacci numbers\n",
    "fibonacci_numbers = fibonacci_sequence(10)\n",
    "print(\"The first 10 Fibonacci numbers are:\", fibonacci_numbers)"
   ]
  },
  {
   "cell_type": "code",
   "execution_count": 12,
   "metadata": {},
   "outputs": [
    {
     "data": {
      "text/plain": [
       "['p', 'w', 's', 'k', 'i', 'l', 'l', 's']"
      ]
     },
     "execution_count": 12,
     "metadata": {},
     "output_type": "execute_result"
    }
   ],
   "source": [
    "# Q7\n",
    "str=\"pwskills\"\n",
    "result=[char for char in str]\n",
    "result\n"
   ]
  },
  {
   "cell_type": "code",
   "execution_count": 35,
   "metadata": {},
   "outputs": [
    {
     "name": "stdout",
     "output_type": "stream",
     "text": [
      "True\n"
     ]
    }
   ],
   "source": [
    "# Q8\n",
    "str=\"naman\"\n",
    "\n",
    "n=len(str)\n",
    "i=0\n",
    "ans=True\n",
    "while i<=n:\n",
    "    if str[i]==str[n-1]:\n",
    "        \n",
    "        pass\n",
    "    else:\n",
    "        ans=False\n",
    "        break\n",
    "\n",
    "    i=i+1\n",
    "    n=n-1\n",
    "print(ans)\n"
   ]
  },
  {
   "cell_type": "code",
   "execution_count": 36,
   "metadata": {},
   "outputs": [
    {
     "name": "stdout",
     "output_type": "stream",
     "text": [
      "[1, 3, 5, 7, 9, 11, 13, 15, 17, 19, 21, 23, 25, 27, 29, 31, 33, 35, 37, 39, 41, 43, 45, 47, 49, 51, 53, 55, 57, 59, 61, 63, 65, 67, 69, 71, 73, 75, 77, 79, 81, 83, 85, 87, 89, 91, 93, 95, 97, 99]\n"
     ]
    }
   ],
   "source": [
    "odd_numbers = list(filter(lambda x: x % 2 != 0, range(1, 101)))\n",
    "\n",
    "\n",
    "print(odd_numbers)"
   ]
  }
 ],
 "metadata": {
  "kernelspec": {
   "display_name": "Python 3",
   "language": "python",
   "name": "python3"
  },
  "language_info": {
   "codemirror_mode": {
    "name": "ipython",
    "version": 3
   },
   "file_extension": ".py",
   "mimetype": "text/x-python",
   "name": "python",
   "nbconvert_exporter": "python",
   "pygments_lexer": "ipython3",
   "version": "3.11.9"
  }
 },
 "nbformat": 4,
 "nbformat_minor": 2
}
