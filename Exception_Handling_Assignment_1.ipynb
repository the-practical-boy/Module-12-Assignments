{
 "cells": [
  {
   "cell_type": "markdown",
   "metadata": {},
   "source": [
    "# Q1\n",
    "\n",
    "An exception in Python is an event that disrupts the normal flow of a program's execution. It occurs when a Python script encounters a situation that it cannot cope with. Examples include attempting to divide by zero, accessing a variable that hasn't been defined, or running out of memory.\n",
    "\n",
    "\n",
    "Difference between exception and syntax error:-\n",
    "\n",
    "1. Exceptions are detected during runtime, whereas syntax errors are detected during compile time. Exceptions arise from problematic conditions during program execution, while syntax errors result from incorrect language syntax\n",
    "\n",
    "2.  Exceptions can be handled using constructs like try, except, and finally blocks, but syntax errors must be corrected in the code before the program can run. Examples of exceptions include ZeroDivisionError and FileNotFoundError, whereas syntax errors include missing colons or unmatched parentheses. \n",
    "\n",
    "3. Handling exceptions allows the program to continue running, whereas syntax errors prevent the program from running until they are fixed.\n"
   ]
  },
  {
   "cell_type": "markdown",
   "metadata": {},
   "source": [
    "# Q2:\n",
    "\n",
    "When an exception is not handled in Python, the following happens:\n",
    "\n",
    "1. The program stops executing at the point where the unhandled exception occurs.\n",
    "\n",
    "2. An error message is displayed to the user, showing the type of exception, a description of the error, and the traceback.\n",
    "\n",
    "3. The traceback provides detailed information about the sequence of calls that led to the exception, helping identify where the error occurred in the code."
   ]
  },
  {
   "cell_type": "code",
   "execution_count": 1,
   "metadata": {},
   "outputs": [
    {
     "ename": "ZeroDivisionError",
     "evalue": "division by zero",
     "output_type": "error",
     "traceback": [
      "\u001b[1;31m---------------------------------------------------------------------------\u001b[0m",
      "\u001b[1;31mZeroDivisionError\u001b[0m                         Traceback (most recent call last)",
      "Cell \u001b[1;32mIn[1], line 5\u001b[0m\n\u001b[0;32m      2\u001b[0m \u001b[38;5;28;01mdef\u001b[39;00m \u001b[38;5;21mdivide\u001b[39m(a, b):\n\u001b[0;32m      3\u001b[0m     \u001b[38;5;28;01mreturn\u001b[39;00m a \u001b[38;5;241m/\u001b[39m b\n\u001b[1;32m----> 5\u001b[0m result \u001b[38;5;241m=\u001b[39m \u001b[43mdivide\u001b[49m\u001b[43m(\u001b[49m\u001b[38;5;241;43m10\u001b[39;49m\u001b[43m,\u001b[49m\u001b[43m \u001b[49m\u001b[38;5;241;43m0\u001b[39;49m\u001b[43m)\u001b[49m\n\u001b[0;32m      6\u001b[0m \u001b[38;5;28mprint\u001b[39m(result)\n",
      "Cell \u001b[1;32mIn[1], line 3\u001b[0m, in \u001b[0;36mdivide\u001b[1;34m(a, b)\u001b[0m\n\u001b[0;32m      2\u001b[0m \u001b[38;5;28;01mdef\u001b[39;00m \u001b[38;5;21mdivide\u001b[39m(a, b):\n\u001b[1;32m----> 3\u001b[0m     \u001b[38;5;28;01mreturn\u001b[39;00m \u001b[43ma\u001b[49m\u001b[43m \u001b[49m\u001b[38;5;241;43m/\u001b[39;49m\u001b[43m \u001b[49m\u001b[43mb\u001b[49m\n",
      "\u001b[1;31mZeroDivisionError\u001b[0m: division by zero"
     ]
    }
   ],
   "source": [
    "# Code for divisionbyzeroerror\n",
    "def divide(a, b):\n",
    "    return a / b\n",
    "\n",
    "result = divide(10, 0)\n",
    "print(result)"
   ]
  },
  {
   "cell_type": "markdown",
   "metadata": {},
   "source": [
    "# Q3\n",
    "\n",
    "**try**: This statement is used to enclose the block of code where an exception might occur. It allows you to test a block of code for errors.\n",
    "\n",
    "**except**: This statement is used to catch and handle exceptions that occur within the corresponding try block. You can specify which type of exception to catch, or use a generic except block to catch all exceptions.\n",
    "\n",
    "**finally**: This optional statement is used to execute code regardless of whether an exception occurs or not. It's typically used for cleanup operations, such as closing files or releasing resources.\n"
   ]
  },
  {
   "cell_type": "code",
   "execution_count": 2,
   "metadata": {},
   "outputs": [
    {
     "name": "stdout",
     "output_type": "stream",
     "text": [
      "[Errno 2] No such file or directory: 'random_file'\n",
      "Execution completed\n"
     ]
    }
   ],
   "source": [
    "# Handling file not found exception\n",
    "\n",
    "try:\n",
    "    file =open(\"random_file\",'r')\n",
    "except FileNotFoundError as e:\n",
    "    print(e)\n",
    "else:\n",
    "    print(\"File is available\")\n",
    "\n",
    "finally:\n",
    "    print(\"Execution completed\")\n"
   ]
  },
  {
   "cell_type": "markdown",
   "metadata": {},
   "source": [
    "# Q4\n",
    "**try and else**: try block encloses the code which might throw and error, whereas else block is executed when there is not exception.\n",
    "\n",
    "**finally**: this block will execute in whatever case whether there was an excepion or not.\n",
    "\n",
    "**raise**: this is used to raise an exception explicitly. That means when we are creating any custom exception for a code \n"
   ]
  },
  {
   "cell_type": "code",
   "execution_count": 1,
   "metadata": {},
   "outputs": [
    {
     "name": "stdout",
     "output_type": "stream",
     "text": [
      "Invalid age exception\n",
      "this execution is completec\n"
     ]
    }
   ],
   "source": [
    "#code example \n",
    "\n",
    "class VoterID(Exception):\n",
    "\n",
    "    def __init__(self, age):\n",
    "        self.age=age\n",
    "    \n",
    "    def voterRegistration(self):\n",
    "        if self.age<18:\n",
    "            raise VoterID(\"Invalid age exception\")\n",
    "        else:\n",
    "            raise VoterID(\"Registration can be proceeded\")\n",
    "    \n",
    "\n",
    "try:\n",
    "    Mohan=VoterID(17)\n",
    "    Mohan.voterRegistration()\n",
    "except VoterID as e:\n",
    "    print(e)\n",
    "\n",
    "else:\n",
    "    print(\"Move to next page\")\n",
    "\n",
    "finally:\n",
    "    print(\"this execution is completec\")\n"
   ]
  },
  {
   "cell_type": "markdown",
   "metadata": {},
   "source": [
    "# Q5\n",
    "\n",
    "Custom exceptions in Python are user-defined exception classes that extend the built-in Exception class or any of its subclasses. They allow developers to create specific error types that can be used to indicate unique error conditions within their applications.\n",
    "\n",
    "We need them because\n",
    "1. Custom exceptions help in identifying specific error conditions in your code, making it easier to understand and handle different error scenarios.\n",
    "\n",
    "2. They improve the readability of your code by providing meaningful names for exceptions that reflect the nature of the error.\n",
    "\n",
    "3. Custom exceptions enable modular error handling, allowing different parts of your application to handle specific errors appropriately.\n",
    "\n",
    "4. They facilitate easier debugging and maintenance by providing a clear structure for error handling."
   ]
  },
  {
   "cell_type": "code",
   "execution_count": 17,
   "metadata": {},
   "outputs": [
    {
     "name": "stdout",
     "output_type": "stream",
     "text": [
      "(28, 18, 'Not eligible for ceritficate')\n",
      "Exception is handled\n"
     ]
    }
   ],
   "source": [
    "# Custom exception example\n",
    "\n",
    "class Exam(Exception):\n",
    "\n",
    "    \n",
    "    def __init__(self,practical,theory,message=''):\n",
    "        self.practical=practical\n",
    "        self.theory=theory\n",
    "\n",
    "    def passOrNot(self):\n",
    "        if (self.theory<30 or self.practical<10):\n",
    "            raise Exam(self.theory,self.practical,\"Not eligible for ceritficate\")\n",
    "        else:\n",
    "            pass\n",
    "Mukesh=Exam(18,28)\n",
    "\n",
    "try:\n",
    "    Mukesh.passOrNot()\n",
    "except Exam as e:\n",
    "    print(e)\n",
    "else:\n",
    "    print(\" valid\")\n",
    "\n",
    "finally:\n",
    "    print(\"Exception is handled\")\n"
   ]
  },
  {
   "cell_type": "markdown",
   "metadata": {},
   "source": [
    "# Q6"
   ]
  },
  {
   "cell_type": "code",
   "execution_count": 18,
   "metadata": {},
   "outputs": [
    {
     "name": "stdout",
     "output_type": "stream",
     "text": [
      "(110, 'Speed over limit fine 10000')\n",
      "Traffic Rules should be followed always\n"
     ]
    }
   ],
   "source": [
    "class TrafficRules(Exception):\n",
    "    def __init__(self,speed,message=''):\n",
    "        self.speed=speed\n",
    "    \n",
    "    def speedLimit(self):\n",
    "        if(self.speed>120):\n",
    "            raise TrafficRules(self.speed,'Extreme high speed, 15000 fine')\n",
    "        \n",
    "        elif(self.speed>100):\n",
    "            raise TrafficRules(self.speed,'Speed over limit fine 10000')\n",
    "        else:\n",
    "            pass\n",
    "\n",
    "try:\n",
    "    car=TrafficRules(110)\n",
    "    car.speedLimit()\n",
    "\n",
    "except TrafficRules as e:\n",
    "    print(e)\n",
    "\n",
    "else:\n",
    "    print(\"Ok good driving\")\n",
    "\n",
    "finally:\n",
    "    print(\"Traffic Rules should be followed always\")\n"
   ]
  },
  {
   "cell_type": "code",
   "execution_count": null,
   "metadata": {},
   "outputs": [],
   "source": []
  }
 ],
 "metadata": {
  "kernelspec": {
   "display_name": "Python 3",
   "language": "python",
   "name": "python3"
  },
  "language_info": {
   "codemirror_mode": {
    "name": "ipython",
    "version": 3
   },
   "file_extension": ".py",
   "mimetype": "text/x-python",
   "name": "python",
   "nbconvert_exporter": "python",
   "pygments_lexer": "ipython3",
   "version": "3.11.9"
  }
 },
 "nbformat": 4,
 "nbformat_minor": 2
}
